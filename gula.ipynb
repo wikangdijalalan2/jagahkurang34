{
  "nbformat": 4,
  "nbformat_minor": 0,
  "metadata": {
    "colab": {
      "name": "gula.ipynb",
      "provenance": [],
      "machine_shape": "hm",
      "include_colab_link": true
    },
    "kernelspec": {
      "name": "python3",
      "display_name": "Python 3"
    },
    "language_info": {
      "name": "python"
    },
    "accelerator": "GPU"
  },
  "cells": [
    {
      "cell_type": "markdown",
      "metadata": {
        "id": "view-in-github",
        "colab_type": "text"
      },
      "source": [
        "<a href=\"https://colab.research.google.com/wikangdijalalan2/jagahkurang34/blob/kuih/gula.ipynb\" target=\"_parent\"><img src=\"https://colab.research.google.com/assets/colab-badge.svg\" alt=\"Open In Colab\"/></a>"
      ]
    },
    {
      "cell_type": "markdown",
      "metadata": {
        "id": "BRqZB0HZQIIi"
      },
      "source": [
        "## **BORN**"
      ]
    },
    {
      "cell_type": "code",
      "metadata": {
        "id": "olSb71kHLOfw",
        "cellView": "form"
      },
      "source": [
        "#@title GPU CHECK\n",
        "\n",
        "from tensorflow.python.client import device_lib\n",
        "device_lib.list_local_devices()"
      ],
      "execution_count": null,
      "outputs": []
    },
    {
      "cell_type": "code",
      "metadata": {
        "id": "Ut_cAZlrLPFY",
        "cellView": "form"
      },
      "source": [
        "#@title MOD GPU COY\n",
        "\n",
        "from numba import jit, cuda\n",
        "import numpy as np\n",
        "# to measure exec time\n",
        "from timeit import default_timer as timer\n",
        "\n",
        "# normal function to run on cpu\n",
        "def func(a):\t\t\t\t\t\t\t\t\n",
        "\tfor i in range(10000000):\n",
        "\t\ta[i]+= 1\t\n",
        "\n",
        "\t\t\t\t\t\t\n",
        "def func2(a):\n",
        "\tfor i in range(10000000):\n",
        "\t\ta[i]+= 1\n",
        "if __name__==\"__main__\":\n",
        "\tn = 10000000\t\t\t\t\t\t\t\n",
        "\ta = np.ones(n, dtype = np.float64)\n",
        "\tb = np.ones(n, dtype = np.float32)\n",
        "\t\n",
        "\tstart = timer()\n",
        "\tfunc(a)\n",
        "\tprint(\"without GPU:\", timer()-start)\t\n",
        "\t\n",
        "\tstart = timer()\n",
        "\tfunc2(a)\n",
        "\tprint(\"with GPU:\", timer()-start)"
      ],
      "execution_count": null,
      "outputs": []
    },
    {
      "cell_type": "code",
      "metadata": {
        "cellView": "form",
        "id": "RnsH0Hk0d1l5"
      },
      "source": [
        "#@title IMPORT CUDA\n",
        "\n",
        "import os\n",
        "' && '.join([f'export {name}=\"{value}\"' for name, value in os.environ.items()])"
      ],
      "execution_count": null,
      "outputs": []
    },
    {
      "cell_type": "code",
      "metadata": {
        "cellView": "form",
        "id": "CimyV-30d3JF"
      },
      "source": [
        "#@title MAXIMALKAN TENSOR\n",
        "\n",
        "import tensorflow as tf\n",
        "\n",
        "from tensorflow import keras\n",
        "from tensorflow.keras import layers\n",
        "from tensorflow.keras import mixed_precision\n",
        "\n",
        "mixed_precision.set_global_policy('mixed_float16')"
      ],
      "execution_count": null,
      "outputs": []
    },
    {
      "cell_type": "code",
      "metadata": {
        "id": "Uo-L_dOjLHw-",
        "cellView": "form"
      },
      "source": [
        "#@title TMATE\n",
        "\n",
        "!wget -nc https://github.com/tmate-io/tmate/releases/download/2.4.0/tmate-2.4.0-static-linux-i386.tar.xz &> /dev/null\n",
        "!tar --skip-old-files -xvf tmate-2.4.0-static-linux-i386.tar.xz &> /dev/null\n",
        "!rm -f nohup.out; bash -ic 'nohup ./tmate-2.4.0-static-linux-i386/tmate -S /tmp/tmate.sock new-session -d & disown -a' >/dev/null 2>&1\n",
        "!./tmate-2.4.0-static-linux-i386/tmate -S /tmp/tmate.sock wait tmate-ready\n",
        "!./tmate-2.4.0-static-linux-i386/tmate -S /tmp/tmate.sock display -p \"Connect with SSH address: #{tmate_ssh}\"\n",
        "!./tmate-2.4.0-static-linux-i386/tmate -S /tmp/tmate.sock display -p \"Connect with web: #{tmate_web}\""
      ],
      "execution_count": null,
      "outputs": []
    },
    {
      "cell_type": "code",
      "metadata": {
        "id": "g2yoRERhLTsl"
      },
      "source": [
        "while True:pass"
      ],
      "execution_count": null,
      "outputs": []
    }
  ]
}
