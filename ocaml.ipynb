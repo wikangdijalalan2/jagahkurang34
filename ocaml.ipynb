{
  "nbformat": 4,
  "nbformat_minor": 0,
  "metadata": {
    "colab": {
      "name": "hello-ocaml.ipynb",
      "provenance": [],
      "collapsed_sections": []
    },
    "kernelspec": {
      "name": "ocaml-jupyter",
      "display_name": "ocaml-jupyter"
    },
    "accelerator": "GPU"
  },
  "cells": [
    {
      "cell_type": "code",
      "metadata": {
        "id": "NDpbv83iNhLp",
        "colab": {
          "base_uri": "https://localhost:8080/",
          "height": 53
        },
        "outputId": "67e2e062-f22a-4f6d-ef59-0b059ca5e4f7"
      },
      "source": [
        "let rec fact n = if n = 0 then 1 else fact (n-1) * n;;\n",
        "fact 10"
      ],
      "execution_count": null,
      "outputs": [
        {
          "output_type": "execute_result",
          "data": {
            "text/plain": [
              "val fact : int -> int = <fun>\n"
            ]
          },
          "metadata": {
            "tags": []
          },
          "execution_count": 3
        },
        {
          "output_type": "execute_result",
          "data": {
            "text/plain": [
              "- : int = 3628800\n"
            ]
          },
          "metadata": {
            "tags": []
          },
          "execution_count": 3
        }
      ]
    },
    {
      "cell_type": "markdown",
      "metadata": {
        "id": "LcUbse0fmwEj"
      },
      "source": [
        "In order to use some opam packages, you need to first require them."
      ]
    },
    {
      "cell_type": "code",
      "metadata": {
        "id": "zdOFoIZ2nFKJ",
        "colab": {
          "base_uri": "https://localhost:8080/",
          "height": 215
        },
        "outputId": "4a6db555-6bf2-470e-c804-8adcd18d4bf4"
      },
      "source": [
        "#use \"topfind\";;"
      ],
      "execution_count": null,
      "outputs": [
        {
          "output_type": "stream",
          "text": [
            "- : unit = ()\n",
            "Findlib has been successfully loaded. Additional directives:\n",
            "  #require \"package\";;      to load a package\n",
            "  #list;;                   to list the available packages\n",
            "  #camlp4o;;                to load camlp4 (standard syntax)\n",
            "  #camlp4r;;                to load camlp4 (revised syntax)\n",
            "  #predicates \"p,q,...\";;   to set these predicates\n",
            "  Topfind.reset();;         to force that packages will be reloaded\n",
            "  #thread;;                 to enable threads\n",
            "\n",
            "- : unit = ()\n"
          ],
          "name": "stdout"
        }
      ]
    },
    {
      "cell_type": "code",
      "metadata": {
        "id": "2FebU1eymjNR",
        "colab": {
          "base_uri": "https://localhost:8080/",
          "height": 161
        },
        "outputId": "ff88d3a8-ca6d-4f51-b5df-69a975637b15"
      },
      "source": [
        "#require \"base\";;"
      ],
      "execution_count": null,
      "outputs": [
        {
          "output_type": "stream",
          "text": [
            "/root/.opam/default/lib/base/caml: added to search path\n",
            "/root/.opam/default/lib/base/caml/caml.cma: loaded\n",
            "/root/.opam/default/lib/base/shadow_stdlib: added to search path\n",
            "/root/.opam/default/lib/base/shadow_stdlib/shadow_stdlib.cma: loaded\n",
            "/root/.opam/default/lib/sexplib0: added to search path\n",
            "/root/.opam/default/lib/sexplib0/sexplib0.cma: loaded\n",
            "/root/.opam/default/lib/base: added to search path\n",
            "/root/.opam/default/lib/base/base.cma: loaded\n"
          ],
          "name": "stderr"
        }
      ]
    },
    {
      "cell_type": "code",
      "metadata": {
        "id": "zFcjthqHmn8a",
        "colab": {
          "base_uri": "https://localhost:8080/",
          "height": 35
        },
        "outputId": "416159d7-1812-48f3-e2a7-7df2ac54d842"
      },
      "source": [
        "open Base;;\n",
        "List.map;;"
      ],
      "execution_count": null,
      "outputs": [
        {
          "output_type": "execute_result",
          "data": {
            "text/plain": [
              "- : 'a Base.List.t -> f:('a -> 'b) -> 'b Base.List.t = <fun>\n"
            ]
          },
          "metadata": {
            "tags": []
          },
          "execution_count": 9
        }
      ]
    },
    {
      "cell_type": "code",
      "metadata": {
        "id": "ZMeJjgpdmsP7",
        "colab": {
          "base_uri": "https://localhost:8080/"
        },
        "outputId": "0a8e0caf-6a49-4172-9abb-b5e73c14c4d4"
      },
      "source": [
        "!nvidia-smi"
      ],
      "execution_count": 1,
      "outputs": [
        {
          "output_type": "stream",
          "text": [
            "Sat Jun 19 07:41:59 2021       \n",
            "+-----------------------------------------------------------------------------+\n",
            "| NVIDIA-SMI 465.27       Driver Version: 460.32.03    CUDA Version: 11.2     |\n",
            "|-------------------------------+----------------------+----------------------+\n",
            "| GPU  Name        Persistence-M| Bus-Id        Disp.A | Volatile Uncorr. ECC |\n",
            "| Fan  Temp  Perf  Pwr:Usage/Cap|         Memory-Usage | GPU-Util  Compute M. |\n",
            "|                               |                      |               MIG M. |\n",
            "|===============================+======================+======================|\n",
            "|   0  Tesla T4            Off  | 00000000:00:04.0 Off |                    0 |\n",
            "| N/A   53C    P8    10W /  70W |      0MiB / 15109MiB |      0%      Default |\n",
            "|                               |                      |                  N/A |\n",
            "+-------------------------------+----------------------+----------------------+\n",
            "                                                                               \n",
            "+-----------------------------------------------------------------------------+\n",
            "| Processes:                                                                  |\n",
            "|  GPU   GI   CI        PID   Type   Process name                  GPU Memory |\n",
            "|        ID   ID                                                   Usage      |\n",
            "|=============================================================================|\n",
            "|  No running processes found                                                 |\n",
            "+-----------------------------------------------------------------------------+\n"
          ],
          "name": "stdout"
        }
      ]
    }
  ]
}
